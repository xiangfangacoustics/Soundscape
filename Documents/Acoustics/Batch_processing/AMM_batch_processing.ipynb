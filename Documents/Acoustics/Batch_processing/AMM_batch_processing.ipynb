{
  "cells": [
    {
      "cell_type": "code",
      "execution_count": null,
      "metadata": {
        "id": "moZFdcMuGnx2",
        "colab": {
          "base_uri": "https://localhost:8080/"
        },
        "outputId": "22b9d731-6f00-49c1-de7e-4232155f3912"
      },
      "outputs": [
        {
          "output_type": "stream",
          "name": "stdout",
          "text": [
            "Collecting soundscapy\n",
            "  Downloading soundscapy-0.7.8-py3-none-any.whl.metadata (6.3 kB)\n",
            "Collecting loguru>=0.7.2 (from soundscapy)\n",
            "  Downloading loguru-0.7.3-py3-none-any.whl.metadata (22 kB)\n",
            "Requirement already satisfied: numpy!=1.26 in /usr/local/lib/python3.11/dist-packages (from soundscapy) (2.0.2)\n",
            "Requirement already satisfied: pandas>=2.2.2 in /usr/local/lib/python3.11/dist-packages (from pandas[excel]>=2.2.2->soundscapy) (2.2.2)\n",
            "Requirement already satisfied: plotly>=5.23.0 in /usr/local/lib/python3.11/dist-packages (from soundscapy) (5.24.1)\n",
            "Requirement already satisfied: pydantic>=2.8.2 in /usr/local/lib/python3.11/dist-packages (from soundscapy) (2.10.6)\n",
            "Requirement already satisfied: pyyaml>=6.0.2 in /usr/local/lib/python3.11/dist-packages (from soundscapy) (6.0.2)\n",
            "Requirement already satisfied: scipy>=1.14.1 in /usr/local/lib/python3.11/dist-packages (from soundscapy) (1.14.1)\n",
            "Requirement already satisfied: seaborn>=0.13.2 in /usr/local/lib/python3.11/dist-packages (from soundscapy) (0.13.2)\n",
            "Requirement already satisfied: python-dateutil>=2.8.2 in /usr/local/lib/python3.11/dist-packages (from pandas>=2.2.2->pandas[excel]>=2.2.2->soundscapy) (2.8.2)\n",
            "Requirement already satisfied: pytz>=2020.1 in /usr/local/lib/python3.11/dist-packages (from pandas>=2.2.2->pandas[excel]>=2.2.2->soundscapy) (2025.1)\n",
            "Requirement already satisfied: tzdata>=2022.7 in /usr/local/lib/python3.11/dist-packages (from pandas>=2.2.2->pandas[excel]>=2.2.2->soundscapy) (2025.1)\n",
            "Collecting odfpy>=1.4.1 (from pandas[excel]>=2.2.2->soundscapy)\n",
            "  Downloading odfpy-1.4.1.tar.gz (717 kB)\n",
            "\u001b[2K     \u001b[90m━━━━━━━━━━━━━━━━━━━━━━━━━━━━━━━━━━━━━━━━\u001b[0m \u001b[32m717.0/717.0 kB\u001b[0m \u001b[31m11.2 MB/s\u001b[0m eta \u001b[36m0:00:00\u001b[0m\n",
            "\u001b[?25h  Preparing metadata (setup.py) ... \u001b[?25l\u001b[?25hdone\n",
            "Requirement already satisfied: openpyxl>=3.1.0 in /usr/local/lib/python3.11/dist-packages (from pandas[excel]>=2.2.2->soundscapy) (3.1.5)\n",
            "Collecting python-calamine>=0.1.7 (from pandas[excel]>=2.2.2->soundscapy)\n",
            "  Downloading python_calamine-0.3.1-cp311-cp311-manylinux_2_17_x86_64.manylinux2014_x86_64.whl.metadata (3.2 kB)\n",
            "Collecting pyxlsb>=1.0.10 (from pandas[excel]>=2.2.2->soundscapy)\n",
            "  Downloading pyxlsb-1.0.10-py2.py3-none-any.whl.metadata (2.5 kB)\n",
            "Requirement already satisfied: xlrd>=2.0.1 in /usr/local/lib/python3.11/dist-packages (from pandas[excel]>=2.2.2->soundscapy) (2.0.1)\n",
            "Collecting xlsxwriter>=3.0.5 (from pandas[excel]>=2.2.2->soundscapy)\n",
            "  Downloading XlsxWriter-3.2.2-py3-none-any.whl.metadata (2.8 kB)\n",
            "Requirement already satisfied: tenacity>=6.2.0 in /usr/local/lib/python3.11/dist-packages (from plotly>=5.23.0->soundscapy) (9.0.0)\n",
            "Requirement already satisfied: packaging in /usr/local/lib/python3.11/dist-packages (from plotly>=5.23.0->soundscapy) (24.2)\n",
            "Requirement already satisfied: annotated-types>=0.6.0 in /usr/local/lib/python3.11/dist-packages (from pydantic>=2.8.2->soundscapy) (0.7.0)\n",
            "Requirement already satisfied: pydantic-core==2.27.2 in /usr/local/lib/python3.11/dist-packages (from pydantic>=2.8.2->soundscapy) (2.27.2)\n",
            "Requirement already satisfied: typing-extensions>=4.12.2 in /usr/local/lib/python3.11/dist-packages (from pydantic>=2.8.2->soundscapy) (4.12.2)\n",
            "Requirement already satisfied: matplotlib!=3.6.1,>=3.4 in /usr/local/lib/python3.11/dist-packages (from seaborn>=0.13.2->soundscapy) (3.10.0)\n",
            "Requirement already satisfied: contourpy>=1.0.1 in /usr/local/lib/python3.11/dist-packages (from matplotlib!=3.6.1,>=3.4->seaborn>=0.13.2->soundscapy) (1.3.1)\n",
            "Requirement already satisfied: cycler>=0.10 in /usr/local/lib/python3.11/dist-packages (from matplotlib!=3.6.1,>=3.4->seaborn>=0.13.2->soundscapy) (0.12.1)\n",
            "Requirement already satisfied: fonttools>=4.22.0 in /usr/local/lib/python3.11/dist-packages (from matplotlib!=3.6.1,>=3.4->seaborn>=0.13.2->soundscapy) (4.56.0)\n",
            "Requirement already satisfied: kiwisolver>=1.3.1 in /usr/local/lib/python3.11/dist-packages (from matplotlib!=3.6.1,>=3.4->seaborn>=0.13.2->soundscapy) (1.4.8)\n",
            "Requirement already satisfied: pillow>=8 in /usr/local/lib/python3.11/dist-packages (from matplotlib!=3.6.1,>=3.4->seaborn>=0.13.2->soundscapy) (11.1.0)\n",
            "Requirement already satisfied: pyparsing>=2.3.1 in /usr/local/lib/python3.11/dist-packages (from matplotlib!=3.6.1,>=3.4->seaborn>=0.13.2->soundscapy) (3.2.1)\n",
            "Requirement already satisfied: defusedxml in /usr/local/lib/python3.11/dist-packages (from odfpy>=1.4.1->pandas[excel]>=2.2.2->soundscapy) (0.7.1)\n",
            "Requirement already satisfied: et-xmlfile in /usr/local/lib/python3.11/dist-packages (from openpyxl>=3.1.0->pandas[excel]>=2.2.2->soundscapy) (2.0.0)\n",
            "Requirement already satisfied: six>=1.5 in /usr/local/lib/python3.11/dist-packages (from python-dateutil>=2.8.2->pandas>=2.2.2->pandas[excel]>=2.2.2->soundscapy) (1.17.0)\n",
            "Downloading soundscapy-0.7.8-py3-none-any.whl (383 kB)\n",
            "\u001b[2K   \u001b[90m━━━━━━━━━━━━━━━━━━━━━━━━━━━━━━━━━━━━━━━━\u001b[0m \u001b[32m383.6/383.6 kB\u001b[0m \u001b[31m13.5 MB/s\u001b[0m eta \u001b[36m0:00:00\u001b[0m\n",
            "\u001b[?25hDownloading loguru-0.7.3-py3-none-any.whl (61 kB)\n",
            "\u001b[2K   \u001b[90m━━━━━━━━━━━━━━━━━━━━━━━━━━━━━━━━━━━━━━━━\u001b[0m \u001b[32m61.6/61.6 kB\u001b[0m \u001b[31m1.1 MB/s\u001b[0m eta \u001b[36m0:00:00\u001b[0m\n",
            "\u001b[?25hDownloading python_calamine-0.3.1-cp311-cp311-manylinux_2_17_x86_64.manylinux2014_x86_64.whl (856 kB)\n",
            "\u001b[2K   \u001b[90m━━━━━━━━━━━━━━━━━━━━━━━━━━━━━━━━━━━━━━━━\u001b[0m \u001b[32m856.8/856.8 kB\u001b[0m \u001b[31m8.8 MB/s\u001b[0m eta \u001b[36m0:00:00\u001b[0m\n",
            "\u001b[?25hDownloading pyxlsb-1.0.10-py2.py3-none-any.whl (23 kB)\n",
            "Downloading XlsxWriter-3.2.2-py3-none-any.whl (165 kB)\n",
            "\u001b[2K   \u001b[90m━━━━━━━━━━━━━━━━━━━━━━━━━━━━━━━━━━━━━━━━\u001b[0m \u001b[32m165.1/165.1 kB\u001b[0m \u001b[31m7.0 MB/s\u001b[0m eta \u001b[36m0:00:00\u001b[0m\n",
            "\u001b[?25hBuilding wheels for collected packages: odfpy\n",
            "  Building wheel for odfpy (setup.py) ... \u001b[?25l\u001b[?25hdone\n",
            "  Created wheel for odfpy: filename=odfpy-1.4.1-py2.py3-none-any.whl size=160672 sha256=77f9b63d2e8e30303a1b41ccce165f0ee7cf4d19fd10ba5117675b3e7217ce87\n",
            "  Stored in directory: /root/.cache/pip/wheels/d6/1d/c8/8c29be1d73ca42d15977c75193d9f39a98499413c2838ac54c\n",
            "Successfully built odfpy\n",
            "Installing collected packages: pyxlsb, xlsxwriter, python-calamine, odfpy, loguru, soundscapy\n",
            "Successfully installed loguru-0.7.3 odfpy-1.4.1 python-calamine-0.3.1 pyxlsb-1.0.10 soundscapy-0.7.8 xlsxwriter-3.2.2\n",
            "Requirement already satisfied: soundscapy[audio] in /usr/local/lib/python3.11/dist-packages (0.7.8)\n",
            "Requirement already satisfied: loguru>=0.7.2 in /usr/local/lib/python3.11/dist-packages (from soundscapy[audio]) (0.7.3)\n",
            "Requirement already satisfied: numpy!=1.26 in /usr/local/lib/python3.11/dist-packages (from soundscapy[audio]) (2.0.2)\n",
            "Requirement already satisfied: pandas>=2.2.2 in /usr/local/lib/python3.11/dist-packages (from pandas[excel]>=2.2.2->soundscapy[audio]) (2.2.2)\n",
            "Requirement already satisfied: plotly>=5.23.0 in /usr/local/lib/python3.11/dist-packages (from soundscapy[audio]) (5.24.1)\n",
            "Requirement already satisfied: pydantic>=2.8.2 in /usr/local/lib/python3.11/dist-packages (from soundscapy[audio]) (2.10.6)\n",
            "Requirement already satisfied: pyyaml>=6.0.2 in /usr/local/lib/python3.11/dist-packages (from soundscapy[audio]) (6.0.2)\n",
            "Requirement already satisfied: scipy>=1.14.1 in /usr/local/lib/python3.11/dist-packages (from soundscapy[audio]) (1.14.1)\n",
            "Requirement already satisfied: seaborn>=0.13.2 in /usr/local/lib/python3.11/dist-packages (from soundscapy[audio]) (0.13.2)\n",
            "Collecting acoustic-toolbox>=0.1.2 (from soundscapy[audio])\n",
            "  Downloading acoustic_toolbox-0.1.2-py3-none-any.whl.metadata (3.4 kB)\n",
            "Collecting mosqito>=1.2.1 (from soundscapy[audio])\n",
            "  Downloading mosqito-1.2.1-py3-none-any.whl.metadata (1.4 kB)\n",
            "Requirement already satisfied: numba>=0.59 in /usr/local/lib/python3.11/dist-packages (from soundscapy[audio]) (0.60.0)\n",
            "Collecting scikit-maad>=1.4.3 (from soundscapy[audio])\n",
            "  Downloading scikit_maad-1.4.3-py3-none-any.whl.metadata (8.8 kB)\n",
            "Requirement already satisfied: tqdm>=4.66.5 in /usr/local/lib/python3.11/dist-packages (from soundscapy[audio]) (4.67.1)\n",
            "Requirement already satisfied: matplotlib>=3.9.1 in /usr/local/lib/python3.11/dist-packages (from acoustic-toolbox>=0.1.2->soundscapy[audio]) (3.10.0)\n",
            "Requirement already satisfied: six>=1.16.0 in /usr/local/lib/python3.11/dist-packages (from acoustic-toolbox>=0.1.2->soundscapy[audio]) (1.17.0)\n",
            "Requirement already satisfied: tabulate>=0.9.0 in /usr/local/lib/python3.11/dist-packages (from acoustic-toolbox>=0.1.2->soundscapy[audio]) (0.9.0)\n",
            "Collecting pysoundfile>=0.9.0.post1 (from acoustic-toolbox>=0.1.2->soundscapy[audio])\n",
            "  Downloading PySoundFile-0.9.0.post1-py2.py3-none-any.whl.metadata (9.4 kB)\n",
            "Collecting pyuff (from mosqito>=1.2.1->soundscapy[audio])\n",
            "  Downloading pyuff-2.4.6-py3-none-any.whl.metadata (5.6 kB)\n",
            "Requirement already satisfied: llvmlite<0.44,>=0.43.0dev0 in /usr/local/lib/python3.11/dist-packages (from numba>=0.59->soundscapy[audio]) (0.43.0)\n",
            "Requirement already satisfied: python-dateutil>=2.8.2 in /usr/local/lib/python3.11/dist-packages (from pandas>=2.2.2->pandas[excel]>=2.2.2->soundscapy[audio]) (2.8.2)\n",
            "Requirement already satisfied: pytz>=2020.1 in /usr/local/lib/python3.11/dist-packages (from pandas>=2.2.2->pandas[excel]>=2.2.2->soundscapy[audio]) (2025.1)\n",
            "Requirement already satisfied: tzdata>=2022.7 in /usr/local/lib/python3.11/dist-packages (from pandas>=2.2.2->pandas[excel]>=2.2.2->soundscapy[audio]) (2025.1)\n",
            "Requirement already satisfied: odfpy>=1.4.1 in /usr/local/lib/python3.11/dist-packages (from pandas[excel]>=2.2.2->soundscapy[audio]) (1.4.1)\n",
            "Requirement already satisfied: openpyxl>=3.1.0 in /usr/local/lib/python3.11/dist-packages (from pandas[excel]>=2.2.2->soundscapy[audio]) (3.1.5)\n",
            "Requirement already satisfied: python-calamine>=0.1.7 in /usr/local/lib/python3.11/dist-packages (from pandas[excel]>=2.2.2->soundscapy[audio]) (0.3.1)\n",
            "Requirement already satisfied: pyxlsb>=1.0.10 in /usr/local/lib/python3.11/dist-packages (from pandas[excel]>=2.2.2->soundscapy[audio]) (1.0.10)\n",
            "Requirement already satisfied: xlrd>=2.0.1 in /usr/local/lib/python3.11/dist-packages (from pandas[excel]>=2.2.2->soundscapy[audio]) (2.0.1)\n",
            "Requirement already satisfied: xlsxwriter>=3.0.5 in /usr/local/lib/python3.11/dist-packages (from pandas[excel]>=2.2.2->soundscapy[audio]) (3.2.2)\n",
            "Requirement already satisfied: tenacity>=6.2.0 in /usr/local/lib/python3.11/dist-packages (from plotly>=5.23.0->soundscapy[audio]) (9.0.0)\n",
            "Requirement already satisfied: packaging in /usr/local/lib/python3.11/dist-packages (from plotly>=5.23.0->soundscapy[audio]) (24.2)\n",
            "Requirement already satisfied: annotated-types>=0.6.0 in /usr/local/lib/python3.11/dist-packages (from pydantic>=2.8.2->soundscapy[audio]) (0.7.0)\n",
            "Requirement already satisfied: pydantic-core==2.27.2 in /usr/local/lib/python3.11/dist-packages (from pydantic>=2.8.2->soundscapy[audio]) (2.27.2)\n",
            "Requirement already satisfied: typing-extensions>=4.12.2 in /usr/local/lib/python3.11/dist-packages (from pydantic>=2.8.2->soundscapy[audio]) (4.12.2)\n",
            "Requirement already satisfied: scikit-image>=0.19 in /usr/local/lib/python3.11/dist-packages (from scikit-maad>=1.4.3->soundscapy[audio]) (0.25.2)\n",
            "Collecting resampy>=0.4 (from scikit-maad>=1.4.3->soundscapy[audio])\n",
            "  Downloading resampy-0.4.3-py3-none-any.whl.metadata (3.0 kB)\n",
            "Requirement already satisfied: contourpy>=1.0.1 in /usr/local/lib/python3.11/dist-packages (from matplotlib>=3.9.1->acoustic-toolbox>=0.1.2->soundscapy[audio]) (1.3.1)\n",
            "Requirement already satisfied: cycler>=0.10 in /usr/local/lib/python3.11/dist-packages (from matplotlib>=3.9.1->acoustic-toolbox>=0.1.2->soundscapy[audio]) (0.12.1)\n",
            "Requirement already satisfied: fonttools>=4.22.0 in /usr/local/lib/python3.11/dist-packages (from matplotlib>=3.9.1->acoustic-toolbox>=0.1.2->soundscapy[audio]) (4.56.0)\n",
            "Requirement already satisfied: kiwisolver>=1.3.1 in /usr/local/lib/python3.11/dist-packages (from matplotlib>=3.9.1->acoustic-toolbox>=0.1.2->soundscapy[audio]) (1.4.8)\n",
            "Requirement already satisfied: pillow>=8 in /usr/local/lib/python3.11/dist-packages (from matplotlib>=3.9.1->acoustic-toolbox>=0.1.2->soundscapy[audio]) (11.1.0)\n",
            "Requirement already satisfied: pyparsing>=2.3.1 in /usr/local/lib/python3.11/dist-packages (from matplotlib>=3.9.1->acoustic-toolbox>=0.1.2->soundscapy[audio]) (3.2.1)\n",
            "Requirement already satisfied: defusedxml in /usr/local/lib/python3.11/dist-packages (from odfpy>=1.4.1->pandas[excel]>=2.2.2->soundscapy[audio]) (0.7.1)\n",
            "Requirement already satisfied: et-xmlfile in /usr/local/lib/python3.11/dist-packages (from openpyxl>=3.1.0->pandas[excel]>=2.2.2->soundscapy[audio]) (2.0.0)\n",
            "Requirement already satisfied: cffi>=0.6 in /usr/local/lib/python3.11/dist-packages (from pysoundfile>=0.9.0.post1->acoustic-toolbox>=0.1.2->soundscapy[audio]) (1.17.1)\n",
            "Requirement already satisfied: networkx>=3.0 in /usr/local/lib/python3.11/dist-packages (from scikit-image>=0.19->scikit-maad>=1.4.3->soundscapy[audio]) (3.4.2)\n",
            "Requirement already satisfied: imageio!=2.35.0,>=2.33 in /usr/local/lib/python3.11/dist-packages (from scikit-image>=0.19->scikit-maad>=1.4.3->soundscapy[audio]) (2.37.0)\n",
            "Requirement already satisfied: tifffile>=2022.8.12 in /usr/local/lib/python3.11/dist-packages (from scikit-image>=0.19->scikit-maad>=1.4.3->soundscapy[audio]) (2025.3.13)\n",
            "Requirement already satisfied: lazy-loader>=0.4 in /usr/local/lib/python3.11/dist-packages (from scikit-image>=0.19->scikit-maad>=1.4.3->soundscapy[audio]) (0.4)\n",
            "Requirement already satisfied: pycparser in /usr/local/lib/python3.11/dist-packages (from cffi>=0.6->pysoundfile>=0.9.0.post1->acoustic-toolbox>=0.1.2->soundscapy[audio]) (2.22)\n",
            "Downloading acoustic_toolbox-0.1.2-py3-none-any.whl (76 kB)\n",
            "\u001b[2K   \u001b[90m━━━━━━━━━━━━━━━━━━━━━━━━━━━━━━━━━━━━━━━━\u001b[0m \u001b[32m76.9/76.9 kB\u001b[0m \u001b[31m3.8 MB/s\u001b[0m eta \u001b[36m0:00:00\u001b[0m\n",
            "\u001b[?25hDownloading mosqito-1.2.1-py3-none-any.whl (158 kB)\n",
            "\u001b[2K   \u001b[90m━━━━━━━━━━━━━━━━━━━━━━━━━━━━━━━━━━━━━━━━\u001b[0m \u001b[32m158.7/158.7 kB\u001b[0m \u001b[31m8.4 MB/s\u001b[0m eta \u001b[36m0:00:00\u001b[0m\n",
            "\u001b[?25hDownloading scikit_maad-1.4.3-py3-none-any.whl (162 kB)\n",
            "\u001b[2K   \u001b[90m━━━━━━━━━━━━━━━━━━━━━━━━━━━━━━━━━━━━━━━━\u001b[0m \u001b[32m162.8/162.8 kB\u001b[0m \u001b[31m8.2 MB/s\u001b[0m eta \u001b[36m0:00:00\u001b[0m\n",
            "\u001b[?25hDownloading PySoundFile-0.9.0.post1-py2.py3-none-any.whl (24 kB)\n",
            "Downloading resampy-0.4.3-py3-none-any.whl (3.1 MB)\n",
            "\u001b[2K   \u001b[90m━━━━━━━━━━━━━━━━━━━━━━━━━━━━━━━━━━━━━━━━\u001b[0m \u001b[32m3.1/3.1 MB\u001b[0m \u001b[31m27.3 MB/s\u001b[0m eta \u001b[36m0:00:00\u001b[0m\n",
            "\u001b[?25hDownloading pyuff-2.4.6-py3-none-any.whl (62 kB)\n",
            "\u001b[2K   \u001b[90m━━━━━━━━━━━━━━━━━━━━━━━━━━━━━━━━━━━━━━━━\u001b[0m \u001b[32m63.0/63.0 kB\u001b[0m \u001b[31m3.8 MB/s\u001b[0m eta \u001b[36m0:00:00\u001b[0m\n",
            "\u001b[?25hInstalling collected packages: pyuff, resampy, pysoundfile, mosqito, scikit-maad, acoustic-toolbox\n",
            "Successfully installed acoustic-toolbox-0.1.2 mosqito-1.2.1 pysoundfile-0.9.0.post1 pyuff-2.4.6 resampy-0.4.3 scikit-maad-1.4.3\n",
            "Requirement already satisfied: scipy==1.14.1 in /usr/local/lib/python3.11/dist-packages (1.14.1)\n",
            "Requirement already satisfied: numpy<2.3,>=1.23.5 in /usr/local/lib/python3.11/dist-packages (from scipy==1.14.1) (2.0.2)\n"
          ]
        }
      ],
      "source": [
        "!pip install soundscapy\n",
        "!pip install soundscapy[audio]\n",
        "!pip install scipy==1.14.1"
      ]
    },
    {
      "cell_type": "code",
      "execution_count": null,
      "metadata": {
        "id": "9Hw4yOuWHad8"
      },
      "outputs": [],
      "source": [
        "from soundscapy import AudioAnalysis\n",
        "from soundscapy import AnalysisSettings\n",
        "from soundscapy import Binaural\n",
        "from soundscapy import prep_multiindex_df, add_results, process_all_metrics\n",
        "import json\n",
        "from pathlib import Path\n",
        "import sys\n",
        "from pathlib import Path\n",
        "sys.path.append('../..')\n",
        "import warnings\n",
        "warnings.filterwarnings(\"ignore\")\n",
        "analysis = AudioAnalysis()"
      ]
    },
    {
      "cell_type": "code",
      "source": [
        "# Step1: Computing Psychoacoustics from original file\n",
        "import time\n",
        "import pandas as pd\n",
        "from pathlib import Path\n",
        "from tqdm import tqdm\n",
        "from soundscapy import Binaural\n",
        "\n",
        "# Folder path with original wav file\n",
        "wav_folder = Path(\"/content/Data\")\n",
        "\n",
        "df = pd.DataFrame()\n",
        "\n",
        "start = time.perf_counter()\n",
        "\n",
        "# Loop through each filtered WAV file\n",
        "for wav in (pbar := tqdm(list(wav_folder.glob(\"*.wav\")))):\n",
        "    recording = wav.stem\n",
        "    pbar.set_description(f\"Processing {recording}\")\n",
        "\n",
        "        b = Binaural.from_wav(wav)\n",
        "        # SPL (LZeq)\n",
        "        spl_result = b.pyacoustics_metric(\"LZeq\", statistics=(5, 50, 'avg', 'max'), as_df=True)\n",
        "\n",
        "        # Loudness & Sharpness\n",
        "        metrics = [\"loudness_zwtv\", \"sharpness_din_from_loudness\"]\n",
        "        stats = (5, 50, 'avg', 'max')\n",
        "        mosqito_results = {}\n",
        "        for metric in metrics:\n",
        "            mosqito_results[metric] = b.mosqito_metric(\n",
        "                metric,\n",
        "                statistics=stats,\n",
        "                as_df=True,\n",
        "                parallel=True,\n",
        "                func_args={'field_type': 'free'}\n",
        "            )\n",
        "\n",
        "        # Combine all metrics (SPL, loudness, and sharpness)\n",
        "        combined = pd.concat([spl_result] + list(mosqito_results.values()), axis=1)\n",
        "        combined[\"Recording\"] = recording\n",
        "        combined = combined.set_index(\"Recording\")\n",
        "\n",
        "        # Append to master DataFrame\n",
        "        df = pd.concat([df, combined])\n",
        "\n",
        "end = time.perf_counter()\n",
        "print(f\" Processing completed in {end - start:.2f} seconds\")\n",
        "\n",
        "print(df.head())\n",
        "\n",
        "# Save results\n",
        "df.to_csv(\"acoustic_metrics_original.csv\")"
      ],
      "metadata": {
        "colab": {
          "base_uri": "https://localhost:8080/"
        },
        "id": "3ehY-DxhdNak",
        "outputId": "39152db2-5a69-46bb-9247-aed8ce171789"
      },
      "execution_count": null,
      "outputs": [
        {
          "output_type": "stream",
          "name": "stderr",
          "text": [
            "Processing REC566: 100%|██████████| 3/3 [31:37<00:00, 632.36s/it]"
          ]
        },
        {
          "output_type": "stream",
          "name": "stdout",
          "text": [
            "\n",
            "✅ Processing completed in 1897.09 seconds\n",
            "                LZeq     LZeq_5    LZeq_50   LZeq_max        N_5       N_50  \\\n",
            "Recording                                                                     \n",
            "REC565     72.563131  74.707490  72.124374  76.681324  19.888658  16.950924   \n",
            "REC565     72.130296  74.730881  71.699823  76.280594  17.808158  15.508664   \n",
            "REC563     71.372647  74.537626  70.181556  79.901821  20.091380  16.666380   \n",
            "REC563     71.020903  74.200094  69.874429  79.624749  19.152523  15.976504   \n",
            "REC566     74.259176  78.813382  72.698698  81.108869  33.472917  17.134173   \n",
            "\n",
            "               N_avg      N_max        N_5       N_50      N_avg      N_max  \\\n",
            "Recording                                                                     \n",
            "REC565     17.178956  22.794280  19.888658  16.950924  17.178956  22.794280   \n",
            "REC565     15.664634  21.046655  17.808158  15.508664  15.664634  21.046655   \n",
            "REC563     16.872344  34.355973  20.091380  16.666380  16.872344  34.355973   \n",
            "REC563     16.138768  30.175875  19.152523  15.976504  16.138768  30.175875   \n",
            "REC566     20.071068  39.908947  33.472917  17.134173  20.071068  39.908947   \n",
            "\n",
            "                S_5      S_50     S_avg      S_max  \n",
            "Recording                                           \n",
            "REC565     1.617397  1.268168  1.304506  22.270201  \n",
            "REC565     1.369045  1.150453  1.170704  18.971421  \n",
            "REC563     1.389276  1.146823  1.173159  16.278825  \n",
            "REC563     1.330466  1.110711  1.133207  19.105438  \n",
            "REC566     1.492781  1.088508  1.137889  19.458564  \n"
          ]
        },
        {
          "output_type": "stream",
          "name": "stderr",
          "text": [
            "\n"
          ]
        }
      ]
    },
    {
      "cell_type": "code",
      "source": [
        "# Step2: Apply band filter to approximate AMM effects on 200 Hz\n",
        "import numpy as np\n",
        "import scipy.signal as signal\n",
        "import librosa\n",
        "import librosa.display\n",
        "import matplotlib.pyplot as plt\n",
        "import soundfile as sf\n",
        "from pathlib import Path\n",
        "from tqdm import tqdm\n",
        "from scipy.signal import iirnotch, lfilter\n",
        "import pandas as pd\n",
        "\n",
        "def compute_q_factor(target_reduction_db, min_q=0.6, max_q=3.0):\n",
        "    return np.clip(9 / (target_reduction_db - 9), min_q, max_q)\n",
        "\n",
        "# Notch Filter customization\n",
        "def notch_filter_with_db_reduction(data, center_freq, fs, attenuation_db):\n",
        "    nyquist = 0.5 * fs\n",
        "    quality_factor = compute_q_factor(attenuation_db)\n",
        "    b, a = iirnotch(w0=center_freq / nyquist, Q=quality_factor)\n",
        "\n",
        "    filtered_data = np.copy(data)\n",
        "    for i in range(filtered_data.shape[0]):\n",
        "        filtered_data[i] = lfilter(b, a, filtered_data[i])\n",
        "    return filtered_data\n",
        "\n",
        "# Input Paths\n",
        "input_folder = Path(\"/content/Data\")\n",
        "output_folder = input_folder / \"Filtered\"\n",
        "output_folder.mkdir(exist_ok=True)\n",
        "\n",
        "# Load attenuation values from CSV- attenuation db\n",
        "attenuation_csv = input_folder / \"AMM_9_to_python.csv\"\n",
        "attenuation_df = pd.read_csv(attenuation_csv)\n",
        "attenuation_map = dict(zip(attenuation_df[\"id\"], attenuation_df[\"attenuation_db\"]))\n",
        "\n",
        "# Process Each WAV File\n",
        "for wav_file in (pbar := tqdm(list(input_folder.glob(\"*.wav\")))):\n",
        "    recording_id = wav_file.stem\n",
        "    pbar.set_description(f\"Filtering {recording_id}\")\n",
        "    # Load WAV\n",
        "    y, sr = librosa.load(str(wav_file), sr=None, mono=False)\n",
        "    if y.ndim == 1:\n",
        "        y = np.vstack([y, y])\n",
        "    elif y.shape[1] == 2:\n",
        "        y = y.T\n",
        "\n",
        "    # Get attenuation dB for this file\n",
        "    attenuation_db = attenuation_map[recording_id]\n",
        "\n",
        "    # Apply filter\n",
        "    y_filtered = notch_filter_with_db_reduction(\n",
        "        y, center_freq=200, fs=sr, attenuation_db=attenuation_db\n",
        "    )\n",
        "\n",
        "    # Save filtered WAV\n",
        "    y_filtered = y_filtered.T\n",
        "    filtered_path = output_folder / f\"{recording_id}_filtered.wav\"\n",
        "    sf.write(str(filtered_path), y_filtered.astype(np.float32), sr, format=\"WAV\", subtype=\"FLOAT\")\n",
        "\n",
        "    print(f\"Saved: {filtered_path.name} | Applied {attenuation_db} dB notch\")\n",
        "\n"
      ],
      "metadata": {
        "colab": {
          "base_uri": "https://localhost:8080/"
        },
        "id": "0-jF5HiwhtyW",
        "outputId": "28dbe420-5d8d-4837-c488-437e7845bf84"
      },
      "execution_count": null,
      "outputs": [
        {
          "output_type": "stream",
          "name": "stderr",
          "text": [
            "Filtering REC563:  33%|███▎      | 1/3 [00:00<00:00,  3.36it/s]"
          ]
        },
        {
          "output_type": "stream",
          "name": "stdout",
          "text": [
            "Saved: REC565_filtered.wav | Applied 21.86246544 dB notch\n"
          ]
        },
        {
          "output_type": "stream",
          "name": "stderr",
          "text": [
            "Filtering REC566:  67%|██████▋   | 2/3 [00:00<00:00,  3.46it/s]"
          ]
        },
        {
          "output_type": "stream",
          "name": "stdout",
          "text": [
            "Saved: REC563_filtered.wav | Applied 23.92516811 dB notch\n"
          ]
        },
        {
          "output_type": "stream",
          "name": "stderr",
          "text": [
            "Filtering REC566: 100%|██████████| 3/3 [00:00<00:00,  3.49it/s]"
          ]
        },
        {
          "output_type": "stream",
          "name": "stdout",
          "text": [
            "Saved: REC566_filtered.wav | Applied 26.37720339 dB notch\n"
          ]
        },
        {
          "output_type": "stream",
          "name": "stderr",
          "text": [
            "\n"
          ]
        }
      ]
    },
    {
      "cell_type": "code",
      "source": [
        "# Step3: Computing Psychoacoustics from filter wav file\n",
        "import time\n",
        "import pandas as pd\n",
        "from pathlib import Path\n",
        "from tqdm import tqdm\n",
        "from soundscapy import Binaural\n",
        "\n",
        "# folder with filtered & calibrated WAVs\n",
        "wav_folder = Path(\"/content/Data/Filtered\")\n",
        "\n",
        "# Initialize empty DataFrame to store results\n",
        "df = pd.DataFrame()\n",
        "\n",
        "# Start timer\n",
        "start = time.perf_counter()\n",
        "\n",
        "# Loop through each filtered WAV file\n",
        "for wav in (pbar := tqdm(list(wav_folder.glob(\"*_filtered.wav\")))):\n",
        "    recording = wav.stem.replace(\"_filtered\", \"\")\n",
        "    pbar.set_description(f\"Processing {recording}\")\n",
        "\n",
        "    try:\n",
        "        # Load WAV without additional calibration——already calibrated\n",
        "        b = Binaural.from_wav(wav)\n",
        "\n",
        "        # SPL metric\n",
        "        spl_result = b.pyacoustics_metric(\"LZeq\", statistics=(5, 50, 'avg', 'max'), as_df=True)\n",
        "\n",
        "        # Loudness & Sharpness\n",
        "        metrics = [\"loudness_zwtv\", \"sharpness_din_from_loudness\"]\n",
        "        stats = (5, 50, 'avg', 'max')\n",
        "        mosqito_results = {}\n",
        "        for metric in metrics:\n",
        "            mosqito_results[metric] = b.mosqito_metric(\n",
        "                metric,\n",
        "                statistics=stats,\n",
        "                as_df=True,\n",
        "                parallel=True,\n",
        "                func_args={'field_type': 'free'}\n",
        "            )\n",
        "\n",
        "        # Combine all metrics\n",
        "        combined = pd.concat([spl_result] + list(mosqito_results.values()), axis=1)\n",
        "        combined[\"Recording\"] = recording\n",
        "        combined = combined.set_index(\"Recording\")\n",
        "\n",
        "        # Append to main DataFrame\n",
        "        df = pd.concat([df, combined])\n",
        "\n",
        "end = time.perf_counter()\n",
        "print(f\"\\n Done in {end - start:.2f} seconds\")\n",
        "\n",
        "print(df.head())\n",
        "\n",
        "#  Save to CSV\n",
        "df.to_csv(\"acoustic_metrics_filtered.csv\")\n",
        "print(\" Results saved to 'acoustic_metrics_filtered.csv'\")"
      ],
      "metadata": {
        "colab": {
          "base_uri": "https://localhost:8080/"
        },
        "id": "h6h4Xg64pWve",
        "outputId": "31ac591e-bd5a-42ec-9297-c61d39435b26"
      },
      "execution_count": null,
      "outputs": [
        {
          "output_type": "stream",
          "name": "stderr",
          "text": [
            "Processing REC563: 100%|██████████| 3/3 [32:53<00:00, 657.86s/it]"
          ]
        },
        {
          "output_type": "stream",
          "name": "stdout",
          "text": [
            "\n",
            "✅ Done in 1973.62 seconds\n",
            "                LZeq     LZeq_5    LZeq_50   LZeq_max        N_5       N_50  \\\n",
            "Recording                                                                     \n",
            "REC566     72.826421  77.815355  71.013507  80.519591  30.044983  14.929338   \n",
            "REC566     73.361556  79.725577  70.701344  82.803009  32.556981  14.883555   \n",
            "REC565     71.047953  73.406708  70.738207  74.850332  18.043653  15.236251   \n",
            "REC565     70.696881  73.209913  70.365561  74.981476  15.886111  13.863265   \n",
            "REC563     69.141593  71.787980  68.448424  76.272476  17.630266  14.721076   \n",
            "\n",
            "               N_avg      N_max        N_5       N_50      N_avg      N_max  \\\n",
            "Recording                                                                     \n",
            "REC566     17.675391  36.108672  30.044983  14.929338  17.675391  36.108672   \n",
            "REC566     17.799556  40.737225  32.556981  14.883555  17.799556  40.737225   \n",
            "REC565     15.458070  20.935773  18.043653  15.236251  15.458070  20.935773   \n",
            "REC565     14.002778  19.238713  15.886111  13.863265  14.002778  19.238713   \n",
            "REC563     14.821176  30.149669  17.630266  14.721076  14.821176  30.149669   \n",
            "\n",
            "                S_5      S_50     S_avg      S_max  \n",
            "Recording                                           \n",
            "REC566     1.628647  1.191832  1.242709  20.004838  \n",
            "REC566     1.607424  1.158283  1.206206  19.816127  \n",
            "REC565     1.749425  1.372692  1.411147  22.921223  \n",
            "REC565     1.487252  1.246506  1.268915  19.337261  \n",
            "REC563     1.526412  1.255339  1.285552  17.062004  \n",
            "✅ Results saved to 'acoustic_metrics_filtered.csv'\n"
          ]
        },
        {
          "output_type": "stream",
          "name": "stderr",
          "text": [
            "\n"
          ]
        }
      ]
    }
  ],
  "metadata": {
    "colab": {
      "provenance": []
    },
    "kernelspec": {
      "display_name": "Python 3",
      "name": "python3"
    },
    "language_info": {
      "name": "python"
    }
  },
  "nbformat": 4,
  "nbformat_minor": 0
}